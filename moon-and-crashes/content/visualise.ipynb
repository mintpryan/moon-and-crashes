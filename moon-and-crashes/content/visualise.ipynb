# Импорт библиотек
import pandas as pd
import matplotlib.pyplot as plt
import seaborn as sns
import plotly.express as px

# Пример данных
data = {
    "Category": ["A", "B", "C", "D"],
    "Values": [10, 20, 15, 25]
}
df = pd.DataFrame(data)

# График с Matplotlib
plt.figure(figsize=(8, 6))
plt.bar(df["Category"], df["Values"], color="skyblue")
plt.title("Bar Chart with Matplotlib")
plt.xlabel("Category")
plt.ylabel("Values")
plt.show()

# График с Seaborn
plt.figure(figsize=(8, 6))
sns.barplot(x="Category", y="Values", data=df, palette="viridis")
plt.title("Bar Chart with Seaborn")
plt.show()

# График с Plotly
fig = px.bar(df, x="Category", y="Values", title="Interactive Bar Chart with Plotly")
fig.show()