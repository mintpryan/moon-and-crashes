import plotly.graph_objects as go

# Создание интерактивного графика
fig = go.Figure(data=[
    go.Bar(name='A', x=["A", "B", "C", "D"], y=[10, 20, 15, 25]),
    go.Bar(name='B', x=["A", "B", "C", "D"], y=[20, 15, 10, 30])
])
fig.update_layout(
    title="Group Bar Chart with Plotly",
    xaxis_title="Category",
    yaxis_title="Values",
    barmode='group'
)
fig.show()