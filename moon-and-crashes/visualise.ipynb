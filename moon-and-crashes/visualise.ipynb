{
    "cells": [
     {
      "cell_type": "markdown",
      "metadata": {},
      "source": [
       "# Пример: Визуализация данных с Matplotlib и Seaborn"
      ]
     },
     {
      "cell_type": "code",
      "execution_count": null,
      "metadata": {},
      "outputs": [],
      "source": [
       "%matplotlib inline  # Включение встроенных графиков в Jupyter\n",
       "import pandas as pd\n",
       "import matplotlib.pyplot as plt\n",
       "import seaborn as sns\n",
       "\n",
       "# Пример данных\n",
       "data = {\n",
       "    \"Категория\": [\"A\", \"B\", \"C\", \"D\"],\n",
       "    \"Значение\": [10, 20, 15, 25]\n",
       "}\n",
       "df = pd.DataFrame(data)\n",
       "df"
      ]
     },
     {
      "cell_type": "markdown",
      "metadata": {},
      "source": [
       "## График с Matplotlib"
      ]
     },
     {
      "cell_type": "code",
      "execution_count": null,
      "metadata": {},
      "outputs": [],
      "source": [
       "plt.figure(figsize=(8, 6))\n",
       "plt.bar(df['Категория'], df['Значение'], color='skyblue')\n",
       "plt.title('Bar Chart with Matplotlib')\n",
       "plt.xlabel('Категория')\n",
       "plt.ylabel('Значение')\n",
       "plt.show()"
      ]
     },
     {
      "cell_type": "markdown",
      "metadata": {},
      "source": [
       "## График с Seaborn"
      ]
     },
     {
      "cell_type": "code",
      "execution_count": null,
      "metadata": {},
      "outputs": [],
      "source": [
       "plt.figure(figsize=(8, 6))\n",
       "sns.barplot(x=\"Категория\", y=\"Значение\", data=df, palette=\"viridis\")\n",
       "plt.title(\"Bar Chart with Seaborn\")\n",
       "plt.show()"
      ]
     }
    ],
    "metadata": {
     "kernelspec": {
      "display_name": "Python 3",
      "language": "python",
      "name": "python3"
     },
     "language_info": {
      "codemirror_mode": {
       "name": "ipython",
       "version": 3
      },
      "file_extension": ".py",
      "mimetype": "text/x-python",
      "name": "python",
      "nbconvert_exporter": "python",
      "pygments_lexer": "ipython3",
      "version": "3.8.10"
     }
    },
    "nbformat": 4,
    "nbformat_minor": 5
   }
   