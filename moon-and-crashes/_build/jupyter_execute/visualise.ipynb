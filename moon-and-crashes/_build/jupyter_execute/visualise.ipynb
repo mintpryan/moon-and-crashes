{
 "cells": [
  {
   "cell_type": "markdown",
   "id": "27326376",
   "metadata": {},
   "source": [
    "# Анализ данных и визуализация\n",
    "\n",
    "В этом ноутбуке мы строим графики с использованием `matplotlib`, `seaborn` и `plotly`."
   ]
  },
  {
   "cell_type": "code",
   "execution_count": 1,
   "id": "f7ca1900",
   "metadata": {},
   "outputs": [
    {
     "name": "stderr",
     "output_type": "stream",
     "text": [
      "Matplotlib is building the font cache; this may take a moment.\n"
     ]
    }
   ],
   "source": [
    "# Импорт библиотек\n",
    "import pandas as pd\n",
    "import matplotlib.pyplot as plt\n",
    "import seaborn as sns\n",
    "import plotly.express as px\n",
    "\n",
    "# Пример данных\n",
    "data = {\n",
    "    \"Категория\": [\"A\", \"B\", \"C\", \"D\"],\n",
    "    \"Значение\": [10, 20, 15, 25]\n",
    "}\n",
    "df = pd.DataFrame(data)\n",
    "df"
   ]
  },
  {
   "cell_type": "markdown",
   "id": "8f6c0beb",
   "metadata": {},
   "source": [
    "## График с Matplotlib"
   ]
  },
  {
   "cell_type": "code",
   "execution_count": null,
   "id": "5dcd0475",
   "metadata": {},
   "outputs": [],
   "source": [
    "plt.figure(figsize=(8, 6))\n",
    "plt.bar(df[\"Категория\"], df[\"Значение\"], color=\"skyblue\")\n",
    "plt.title(\"Bar Chart with Matplotlib\")\n",
    "plt.xlabel(\"Категория\")\n",
    "plt.ylabel(\"Значение\")\n",
    "plt.show()"
   ]
  },
  {
   "cell_type": "markdown",
   "id": "ae5dae84",
   "metadata": {},
   "source": [
    "## График с Seaborn"
   ]
  },
  {
   "cell_type": "code",
   "execution_count": null,
   "id": "b3084c52",
   "metadata": {},
   "outputs": [],
   "source": [
    "plt.figure(figsize=(8, 6))\n",
    "sns.barplot(x=\"Категория\", y=\"Значение\", data=df, palette=\"viridis\")\n",
    "plt.title(\"Bar Chart with Seaborn\")\n",
    "plt.show()"
   ]
  },
  {
   "cell_type": "markdown",
   "id": "40163291",
   "metadata": {},
   "source": [
    "## Интерактивный график с Plotly"
   ]
  },
  {
   "cell_type": "code",
   "execution_count": null,
   "id": "c4d62899",
   "metadata": {},
   "outputs": [],
   "source": [
    "fig = px.bar(df, x=\"Категория\", y=\"Значение\", title=\"Interactive Bar Chart with Plotly\")\n",
    "fig.show()"
   ]
  }
 ],
 "metadata": {
  "kernelspec": {
   "display_name": "Python 3",
   "language": "python",
   "name": "python3"
  },
  "language_info": {
   "codemirror_mode": {
    "name": "ipython",
    "version": 3
   },
   "file_extension": ".py",
   "mimetype": "text/x-python",
   "name": "python",
   "nbconvert_exporter": "python",
   "pygments_lexer": "ipython3",
   "version": "3.12.0"
  }
 },
 "nbformat": 4,
 "nbformat_minor": 5
}