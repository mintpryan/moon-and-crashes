{
    "cells": [
     {
      "cell_type": "markdown",
      "metadata": {},
      "source": [
       "# Example Graphs in Jupyter Notebook\n",
       "\n",
       "This notebook demonstrates how to create various types of graphs using Python libraries."
      ]
     },
     {
      "cell_type": "code",
      "execution_count": 1,
      "metadata": {},
      "outputs": [],
      "source": [
       "import pandas as pd\n",
       "import matplotlib.pyplot as plt\n",
       "import seaborn as sns\n",
       "import plotly.express as px\n",
       "\n",
       "# Example data\n",
       "data = {\n",
       "    \"Category\": [\"A\", \"B\", \"C\", \"D\"],\n",
       "    \"Values\": [10, 20, 15, 25]\n",
       "}\n",
       "df = pd.DataFrame(data)"
      ]
     },
     {
      "cell_type": "code",
      "execution_count": 2,
      "metadata": {},
      "outputs": [
       {
        "output_type": "display_data",
        "data": {
         "text/plain": [
          "   Category  Values\n",
          "0        A      10\n",
          "1        B      20\n",
          "2        C      15\n",
          "3        D      25"
         ]
        },
        "metadata": {}
       }
      ],
      "source": [
       "df"
      ]
     },
     {
      "cell_type": "code",
      "execution_count": 3,
      "metadata": {},
      "outputs": [],
      "source": [
       "# Matplotlib bar chart\n",
       "plt.figure(figsize=(8, 6))\n",
       "plt.bar(df['Category'], df['Values'], color='skyblue')\n",
       "plt.title('Bar Chart with Matplotlib')\n",
       "plt.xlabel('Category')\n",
       "plt.ylabel('Values')\n",
       "plt.show()"
      ]
     },
     {
      "cell_type": "code",
      "execution_count": 4,
      "metadata": {},
      "outputs": [],
      "source": [
       "# Seaborn bar chart\n",
       "plt.figure(figsize=(8, 6))\n",
       "sns.barplot(x='Category', y='Values', data=df, palette='viridis')\n",
       "plt.title('Bar Chart with Seaborn')\n",
       "plt.show()"
      ]
     },
     {
      "cell_type": "code",
      "execution_count": 5,
      "metadata": {},
      "outputs": [],
      "source": [
       "# Plotly bar chart\n",
       "fig = px.bar(df, x='Category', y='Values', title='Interactive Bar Chart with Plotly')\n",
       "fig.show()"
      ]
     }
    ],
    "metadata": {
     "kernelspec": {
      "display_name": "Python 3",
      "language": "python",
      "name": "python3"
     },
     "language_info": {
      "codemirror_mode": {
       "name": "ipython",
       "version": 3
      },
      "file_extension": ".py",
      "mimetype": "text/x-python",
      "name": "python",
      "nbconvert_exporter": "python",
      "pygments_lexer": "ipython3",
      "version": "3.8.10"
     }
    },
    "nbformat": 4,
    "nbformat_minor": 4
   }
   